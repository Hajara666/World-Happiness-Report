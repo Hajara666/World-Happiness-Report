{
 "cells": [
  {
   "cell_type": "code",
   "execution_count": 26,
   "id": "30bb5175",
   "metadata": {},
   "outputs": [],
   "source": [
    "import numpy as np\n",
    "import pandas as pd\n",
    "import glob\n",
    "from pathlib import Path\n",
    "import seaborn as sns\n",
    "import matplotlib.pyplot as plt"
   ]
  },
  {
   "cell_type": "code",
   "execution_count": 27,
   "id": "f287f744",
   "metadata": {},
   "outputs": [],
   "source": [
    "#choosing the directory where the needed csv files are stored\n",
    "path = r'F:/Hajara/Data_Science'\n",
    "all_files = glob.glob(path + \"/*.csv\")"
   ]
  },
  {
   "cell_type": "code",
   "execution_count": 28,
   "id": "76138101",
   "metadata": {},
   "outputs": [],
   "source": [
    "#for selecting only csv files from the path whose names are in the years list\n",
    "years = ['2015','2016','2017','2018','2019','2020']"
   ]
  },
  {
   "cell_type": "code",
   "execution_count": 29,
   "id": "a8317bed",
   "metadata": {},
   "outputs": [
    {
     "name": "stdout",
     "output_type": "stream",
     "text": [
      "F:/Hajara/Data_Science\\2015.csv\n",
      "F:/Hajara/Data_Science\\2016.csv\n",
      "F:/Hajara/Data_Science\\2017.csv\n",
      "F:/Hajara/Data_Science\\2018.csv\n",
      "F:/Hajara/Data_Science\\2019.csv\n",
      "F:/Hajara/Data_Science\\2020.csv\n"
     ]
    }
   ],
   "source": [
    "#creating dataframes for each .csv files in a dictionary having year as their names\n",
    "df_dict={}\n",
    "for filename in all_files:\n",
    "    if Path(filename).stem in years:\n",
    "        for name in years:\n",
    "            if Path(filename).stem == name:\n",
    "                df_dict[name] = pd.read_csv(filename)\n",
    "        print(filename)"
   ]
  },
  {
   "cell_type": "code",
   "execution_count": 30,
   "id": "6807628f",
   "metadata": {},
   "outputs": [],
   "source": [
    "\n",
    "#having a dictionary for needed columns in the new dataframe as keys and already exist columns as values\n",
    "needed_column_names= {\"Country\" : [\"Country\",\"Country or region\",\"Country name\"],\n",
    "                       \"Happiness Rank\" : [\"Happiness Rank\",\"Happiness.Rank\",\"Overall rank\"],\n",
    "                       \"Happiness Score\" : [\"Happiness Score\",\"Happiness.Score\",\"Score\",\"Ladder score\"],\n",
    "                       \"GDP per Capita\" : [\"Economy (GDP per Capita)\",\"Economy..GDP.per.Capita.\",\"GDP per capita\",\"Logged GDP per capita\"],\n",
    "                       \"Social support\" : [\"Family\",\"Social support\"],\n",
    "                       \"Healthy Life Expectancy\" : [\"Health (Life Expectancy)\",\"Health..Life.Expectancy.\",\"Healthy life expectancy\"],\n",
    "                       \"Freedom\" : [\"Freedom\",\"Freedom to make life choices\"],\n",
    "                       \"Generosity\" : [\"Generosity\"],\n",
    "                       \"Perception of Corruption\" : [\"Trust (Government Corruption)\",\"Trust..Government.Corruption.\",\"Perceptions of corruption\"]\n",
    "                      }"
   ]
  },
  {
   "cell_type": "code",
   "execution_count": 31,
   "id": "55e6f98a",
   "metadata": {},
   "outputs": [],
   "source": [
    "#dropping unwanted columns in each dataframe\n",
    "for name,df in df_dict.items():\n",
    "    for col in df.columns:\n",
    "        i=0\n",
    "        for key, value in needed_column_names.items():         \n",
    "            if col in value :\n",
    "                break\n",
    "            else:\n",
    "                i = i+1\n",
    "        if i == 9:\n",
    "            df.drop(col, axis=1, inplace=True)            "
   ]
  },
  {
   "cell_type": "code",
   "execution_count": 32,
   "id": "1850a5cf",
   "metadata": {},
   "outputs": [
    {
     "name": "stdout",
     "output_type": "stream",
     "text": [
      "name 2015\n",
      "df_columns Index(['Country', 'Happiness Rank', 'Happiness Score',\n",
      "       'Economy (GDP per Capita)', 'Family', 'Health (Life Expectancy)',\n",
      "       'Freedom', 'Trust (Government Corruption)', 'Generosity'],\n",
      "      dtype='object')\n",
      "name 2016\n",
      "df_columns Index(['Country', 'Happiness Rank', 'Happiness Score',\n",
      "       'Economy (GDP per Capita)', 'Family', 'Health (Life Expectancy)',\n",
      "       'Freedom', 'Trust (Government Corruption)', 'Generosity'],\n",
      "      dtype='object')\n",
      "name 2017\n",
      "df_columns Index(['Country', 'Happiness.Rank', 'Happiness.Score',\n",
      "       'Economy..GDP.per.Capita.', 'Family', 'Health..Life.Expectancy.',\n",
      "       'Freedom', 'Generosity', 'Trust..Government.Corruption.'],\n",
      "      dtype='object')\n",
      "name 2018\n",
      "df_columns Index(['Overall rank', 'Country or region', 'Score', 'GDP per capita',\n",
      "       'Social support', 'Healthy life expectancy',\n",
      "       'Freedom to make life choices', 'Generosity',\n",
      "       'Perceptions of corruption'],\n",
      "      dtype='object')\n",
      "name 2019\n",
      "df_columns Index(['Overall rank', 'Country or region', 'Score', 'GDP per capita',\n",
      "       'Social support', 'Healthy life expectancy',\n",
      "       'Freedom to make life choices', 'Generosity',\n",
      "       'Perceptions of corruption'],\n",
      "      dtype='object')\n",
      "name 2020\n",
      "df_columns Index(['Happiness Rank', 'Country name', 'Ladder score',\n",
      "       'Logged GDP per capita', 'Social support', 'Healthy life expectancy',\n",
      "       'Freedom to make life choices', 'Generosity',\n",
      "       'Perceptions of corruption'],\n",
      "      dtype='object')\n"
     ]
    }
   ],
   "source": [
    "#checking the dataframes whether unwanted columns dropped or not\n",
    "for name, df in df_dict.items():\n",
    "    print(\"name\",name)\n",
    "    print(\"df_columns\",df.columns)"
   ]
  },
  {
   "cell_type": "code",
   "execution_count": 33,
   "id": "aca00157",
   "metadata": {},
   "outputs": [],
   "source": [
    "#renaming different names of a column to a common name in all dataframes\n",
    "for name, df in df_dict.items():\n",
    "    list_of_keys = []\n",
    "    for col in df.columns:\n",
    "        new_column_name = ''\n",
    "        rename_factor=False\n",
    "        keys = [key for key, value in needed_column_names.items() if col in value]\n",
    "        list_of_keys.append(keys[0])\n",
    "    df.columns = list_of_keys\n",
    "#runs only one time. repeated runs give error message. No need to worry! "
   ]
  },
  {
   "cell_type": "code",
   "execution_count": 34,
   "id": "7883cb72",
   "metadata": {},
   "outputs": [
    {
     "name": "stdout",
     "output_type": "stream",
     "text": [
      "name 2015\n",
      "df_columns Index(['Country', 'Happiness Rank', 'Happiness Score', 'GDP per Capita',\n",
      "       'Social support', 'Healthy Life Expectancy', 'Freedom',\n",
      "       'Perception of Corruption', 'Generosity'],\n",
      "      dtype='object')\n",
      "name 2016\n",
      "df_columns Index(['Country', 'Happiness Rank', 'Happiness Score', 'GDP per Capita',\n",
      "       'Social support', 'Healthy Life Expectancy', 'Freedom',\n",
      "       'Perception of Corruption', 'Generosity'],\n",
      "      dtype='object')\n",
      "name 2017\n",
      "df_columns Index(['Country', 'Happiness Rank', 'Happiness Score', 'GDP per Capita',\n",
      "       'Social support', 'Healthy Life Expectancy', 'Freedom', 'Generosity',\n",
      "       'Perception of Corruption'],\n",
      "      dtype='object')\n",
      "name 2018\n",
      "df_columns Index(['Happiness Rank', 'Country', 'Happiness Score', 'GDP per Capita',\n",
      "       'Social support', 'Healthy Life Expectancy', 'Freedom', 'Generosity',\n",
      "       'Perception of Corruption'],\n",
      "      dtype='object')\n",
      "name 2019\n",
      "df_columns Index(['Happiness Rank', 'Country', 'Happiness Score', 'GDP per Capita',\n",
      "       'Social support', 'Healthy Life Expectancy', 'Freedom', 'Generosity',\n",
      "       'Perception of Corruption'],\n",
      "      dtype='object')\n",
      "name 2020\n",
      "df_columns Index(['Happiness Rank', 'Country', 'Happiness Score', 'GDP per Capita',\n",
      "       'Social support', 'Healthy Life Expectancy', 'Freedom', 'Generosity',\n",
      "       'Perception of Corruption'],\n",
      "      dtype='object')\n"
     ]
    }
   ],
   "source": [
    "#checking the dataframes whether column names are changed or not\n",
    "for name, df in df_dict.items():\n",
    "    print(\"name\",name)\n",
    "    print(\"df_columns\",df.columns)"
   ]
  },
  {
   "cell_type": "code",
   "execution_count": 35,
   "id": "f7577251",
   "metadata": {},
   "outputs": [],
   "source": [
    "#insert column'year' in all dataframes\n",
    "for name, df in df_dict.items():\n",
    "    df.insert(loc = 0,column = 'Year', value = name)\n",
    "#If it shows an error when running this cell,it is not an error. \n",
    "#It is showed ,because the above 'Year' column already inserted by the above code. Runs only first time.\n",
    "#Second time shows error.But no problem. No need to do anything."
   ]
  },
  {
   "cell_type": "code",
   "execution_count": 36,
   "id": "462d2b0a",
   "metadata": {},
   "outputs": [
    {
     "name": "stdout",
     "output_type": "stream",
     "text": [
      "name 2015\n",
      "df_columns Index(['Year', 'Country', 'Happiness Rank', 'Happiness Score',\n",
      "       'GDP per Capita', 'Social support', 'Healthy Life Expectancy',\n",
      "       'Freedom', 'Perception of Corruption', 'Generosity'],\n",
      "      dtype='object')\n",
      "name 2016\n",
      "df_columns Index(['Year', 'Country', 'Happiness Rank', 'Happiness Score',\n",
      "       'GDP per Capita', 'Social support', 'Healthy Life Expectancy',\n",
      "       'Freedom', 'Perception of Corruption', 'Generosity'],\n",
      "      dtype='object')\n",
      "name 2017\n",
      "df_columns Index(['Year', 'Country', 'Happiness Rank', 'Happiness Score',\n",
      "       'GDP per Capita', 'Social support', 'Healthy Life Expectancy',\n",
      "       'Freedom', 'Generosity', 'Perception of Corruption'],\n",
      "      dtype='object')\n",
      "name 2018\n",
      "df_columns Index(['Year', 'Happiness Rank', 'Country', 'Happiness Score',\n",
      "       'GDP per Capita', 'Social support', 'Healthy Life Expectancy',\n",
      "       'Freedom', 'Generosity', 'Perception of Corruption'],\n",
      "      dtype='object')\n",
      "name 2019\n",
      "df_columns Index(['Year', 'Happiness Rank', 'Country', 'Happiness Score',\n",
      "       'GDP per Capita', 'Social support', 'Healthy Life Expectancy',\n",
      "       'Freedom', 'Generosity', 'Perception of Corruption'],\n",
      "      dtype='object')\n",
      "name 2020\n",
      "df_columns Index(['Year', 'Happiness Rank', 'Country', 'Happiness Score',\n",
      "       'GDP per Capita', 'Social support', 'Healthy Life Expectancy',\n",
      "       'Freedom', 'Generosity', 'Perception of Corruption'],\n",
      "      dtype='object')\n"
     ]
    }
   ],
   "source": [
    "#checking the 'Year' column inserted in all dataframes\n",
    "for name, df in df_dict.items():\n",
    "    print(\"name\",name)\n",
    "    print(\"df_columns\",df.columns)"
   ]
  },
  {
   "cell_type": "code",
   "execution_count": 37,
   "id": "e7c59270",
   "metadata": {},
   "outputs": [],
   "source": [
    "#concatenate all dataframes into one big dataframe\n",
    "list_of_dataframes = []\n",
    "for name, df in df_dict.items():\n",
    "    list_of_dataframes.append(df)\n",
    "    frame = pd.concat(list_of_dataframes, axis=0, ignore_index=True)\n"
   ]
  },
  {
   "cell_type": "code",
   "execution_count": 40,
   "id": "44bf5a29",
   "metadata": {},
   "outputs": [
    {
     "data": {
      "text/html": [
       "<div>\n",
       "<style scoped>\n",
       "    .dataframe tbody tr th:only-of-type {\n",
       "        vertical-align: middle;\n",
       "    }\n",
       "\n",
       "    .dataframe tbody tr th {\n",
       "        vertical-align: top;\n",
       "    }\n",
       "\n",
       "    .dataframe thead th {\n",
       "        text-align: right;\n",
       "    }\n",
       "</style>\n",
       "<table border=\"1\" class=\"dataframe\">\n",
       "  <thead>\n",
       "    <tr style=\"text-align: right;\">\n",
       "      <th></th>\n",
       "      <th>Year</th>\n",
       "      <th>Country</th>\n",
       "      <th>Happiness Rank</th>\n",
       "      <th>Happiness Score</th>\n",
       "      <th>GDP per Capita</th>\n",
       "      <th>Social support</th>\n",
       "      <th>Healthy Life Expectancy</th>\n",
       "      <th>Freedom</th>\n",
       "      <th>Perception of Corruption</th>\n",
       "      <th>Generosity</th>\n",
       "    </tr>\n",
       "  </thead>\n",
       "  <tbody>\n",
       "    <tr>\n",
       "      <th>0</th>\n",
       "      <td>2015</td>\n",
       "      <td>Switzerland</td>\n",
       "      <td>1</td>\n",
       "      <td>7.587</td>\n",
       "      <td>1.39651</td>\n",
       "      <td>1.34951</td>\n",
       "      <td>0.94143</td>\n",
       "      <td>0.66557</td>\n",
       "      <td>0.41978</td>\n",
       "      <td>0.29678</td>\n",
       "    </tr>\n",
       "    <tr>\n",
       "      <th>1</th>\n",
       "      <td>2015</td>\n",
       "      <td>Iceland</td>\n",
       "      <td>2</td>\n",
       "      <td>7.561</td>\n",
       "      <td>1.30232</td>\n",
       "      <td>1.40223</td>\n",
       "      <td>0.94784</td>\n",
       "      <td>0.62877</td>\n",
       "      <td>0.14145</td>\n",
       "      <td>0.43630</td>\n",
       "    </tr>\n",
       "    <tr>\n",
       "      <th>2</th>\n",
       "      <td>2015</td>\n",
       "      <td>Denmark</td>\n",
       "      <td>3</td>\n",
       "      <td>7.527</td>\n",
       "      <td>1.32548</td>\n",
       "      <td>1.36058</td>\n",
       "      <td>0.87464</td>\n",
       "      <td>0.64938</td>\n",
       "      <td>0.48357</td>\n",
       "      <td>0.34139</td>\n",
       "    </tr>\n",
       "    <tr>\n",
       "      <th>3</th>\n",
       "      <td>2015</td>\n",
       "      <td>Norway</td>\n",
       "      <td>4</td>\n",
       "      <td>7.522</td>\n",
       "      <td>1.45900</td>\n",
       "      <td>1.33095</td>\n",
       "      <td>0.88521</td>\n",
       "      <td>0.66973</td>\n",
       "      <td>0.36503</td>\n",
       "      <td>0.34699</td>\n",
       "    </tr>\n",
       "    <tr>\n",
       "      <th>4</th>\n",
       "      <td>2015</td>\n",
       "      <td>Canada</td>\n",
       "      <td>5</td>\n",
       "      <td>7.427</td>\n",
       "      <td>1.32629</td>\n",
       "      <td>1.32261</td>\n",
       "      <td>0.90563</td>\n",
       "      <td>0.63297</td>\n",
       "      <td>0.32957</td>\n",
       "      <td>0.45811</td>\n",
       "    </tr>\n",
       "  </tbody>\n",
       "</table>\n",
       "</div>"
      ],
      "text/plain": [
       "   Year      Country  Happiness Rank  Happiness Score  GDP per Capita  \\\n",
       "0  2015  Switzerland               1            7.587         1.39651   \n",
       "1  2015      Iceland               2            7.561         1.30232   \n",
       "2  2015      Denmark               3            7.527         1.32548   \n",
       "3  2015       Norway               4            7.522         1.45900   \n",
       "4  2015       Canada               5            7.427         1.32629   \n",
       "\n",
       "   Social support  Healthy Life Expectancy  Freedom  Perception of Corruption  \\\n",
       "0         1.34951                  0.94143  0.66557                   0.41978   \n",
       "1         1.40223                  0.94784  0.62877                   0.14145   \n",
       "2         1.36058                  0.87464  0.64938                   0.48357   \n",
       "3         1.33095                  0.88521  0.66973                   0.36503   \n",
       "4         1.32261                  0.90563  0.63297                   0.32957   \n",
       "\n",
       "   Generosity  \n",
       "0     0.29678  \n",
       "1     0.43630  \n",
       "2     0.34139  \n",
       "3     0.34699  \n",
       "4     0.45811  "
      ]
     },
     "execution_count": 40,
     "metadata": {},
     "output_type": "execute_result"
    }
   ],
   "source": [
    "#checking the large dataframe\n",
    "frame.head()"
   ]
  },
  {
   "cell_type": "code",
   "execution_count": 41,
   "id": "c5f362bf",
   "metadata": {},
   "outputs": [
    {
     "data": {
      "text/plain": [
       "Index(['Year', 'Country', 'Happiness Rank', 'Happiness Score',\n",
       "       'GDP per Capita', 'Social support', 'Healthy Life Expectancy',\n",
       "       'Freedom', 'Perception of Corruption', 'Generosity'],\n",
       "      dtype='object')"
      ]
     },
     "execution_count": 41,
     "metadata": {},
     "output_type": "execute_result"
    }
   ],
   "source": [
    "frame.columns"
   ]
  },
  {
   "cell_type": "code",
   "execution_count": 42,
   "id": "d595da70",
   "metadata": {},
   "outputs": [
    {
     "data": {
      "text/html": [
       "<div>\n",
       "<style scoped>\n",
       "    .dataframe tbody tr th:only-of-type {\n",
       "        vertical-align: middle;\n",
       "    }\n",
       "\n",
       "    .dataframe tbody tr th {\n",
       "        vertical-align: top;\n",
       "    }\n",
       "\n",
       "    .dataframe thead th {\n",
       "        text-align: right;\n",
       "    }\n",
       "</style>\n",
       "<table border=\"1\" class=\"dataframe\">\n",
       "  <thead>\n",
       "    <tr style=\"text-align: right;\">\n",
       "      <th></th>\n",
       "      <th>Year</th>\n",
       "      <th>Country</th>\n",
       "      <th>Happiness Rank</th>\n",
       "      <th>Happiness Score</th>\n",
       "      <th>GDP per Capita</th>\n",
       "      <th>Social support</th>\n",
       "      <th>Healthy Life Expectancy</th>\n",
       "      <th>Freedom</th>\n",
       "      <th>Perception of Corruption</th>\n",
       "      <th>Generosity</th>\n",
       "    </tr>\n",
       "  </thead>\n",
       "  <tbody>\n",
       "    <tr>\n",
       "      <th>664</th>\n",
       "      <td>2019</td>\n",
       "      <td>Trinidad &amp; Tobago</td>\n",
       "      <td>39</td>\n",
       "      <td>6.192</td>\n",
       "      <td>1.231</td>\n",
       "      <td>1.477</td>\n",
       "      <td>0.713</td>\n",
       "      <td>0.489</td>\n",
       "      <td>0.016</td>\n",
       "      <td>0.185</td>\n",
       "    </tr>\n",
       "  </tbody>\n",
       "</table>\n",
       "</div>"
      ],
      "text/plain": [
       "     Year            Country  Happiness Rank  Happiness Score  GDP per Capita  \\\n",
       "664  2019  Trinidad & Tobago              39            6.192           1.231   \n",
       "\n",
       "     Social support  Healthy Life Expectancy  Freedom  \\\n",
       "664           1.477                    0.713    0.489   \n",
       "\n",
       "     Perception of Corruption  Generosity  \n",
       "664                     0.016       0.185  "
      ]
     },
     "execution_count": 42,
     "metadata": {},
     "output_type": "execute_result"
    }
   ],
   "source": [
    "frame.sample()"
   ]
  },
  {
   "cell_type": "code",
   "execution_count": 43,
   "id": "efecf70c",
   "metadata": {},
   "outputs": [
    {
     "data": {
      "text/html": [
       "<div>\n",
       "<style scoped>\n",
       "    .dataframe tbody tr th:only-of-type {\n",
       "        vertical-align: middle;\n",
       "    }\n",
       "\n",
       "    .dataframe tbody tr th {\n",
       "        vertical-align: top;\n",
       "    }\n",
       "\n",
       "    .dataframe thead th {\n",
       "        text-align: right;\n",
       "    }\n",
       "</style>\n",
       "<table border=\"1\" class=\"dataframe\">\n",
       "  <thead>\n",
       "    <tr style=\"text-align: right;\">\n",
       "      <th></th>\n",
       "      <th>Year</th>\n",
       "      <th>Country</th>\n",
       "      <th>Happiness Rank</th>\n",
       "      <th>Happiness Score</th>\n",
       "      <th>GDP per Capita</th>\n",
       "      <th>Social support</th>\n",
       "      <th>Healthy Life Expectancy</th>\n",
       "      <th>Freedom</th>\n",
       "      <th>Perception of Corruption</th>\n",
       "      <th>Generosity</th>\n",
       "      <th>Region</th>\n",
       "    </tr>\n",
       "  </thead>\n",
       "  <tbody>\n",
       "    <tr>\n",
       "      <th>0</th>\n",
       "      <td>2015</td>\n",
       "      <td>Switzerland</td>\n",
       "      <td>1</td>\n",
       "      <td>7.587</td>\n",
       "      <td>1.39651</td>\n",
       "      <td>1.349510</td>\n",
       "      <td>0.941430</td>\n",
       "      <td>0.665570</td>\n",
       "      <td>0.419780</td>\n",
       "      <td>0.296780</td>\n",
       "      <td>Western Europe</td>\n",
       "    </tr>\n",
       "    <tr>\n",
       "      <th>1</th>\n",
       "      <td>2016</td>\n",
       "      <td>Switzerland</td>\n",
       "      <td>2</td>\n",
       "      <td>7.509</td>\n",
       "      <td>1.52733</td>\n",
       "      <td>1.145240</td>\n",
       "      <td>0.863030</td>\n",
       "      <td>0.585570</td>\n",
       "      <td>0.412030</td>\n",
       "      <td>0.280830</td>\n",
       "      <td>Western Europe</td>\n",
       "    </tr>\n",
       "    <tr>\n",
       "      <th>2</th>\n",
       "      <td>2017</td>\n",
       "      <td>Switzerland</td>\n",
       "      <td>4</td>\n",
       "      <td>7.494</td>\n",
       "      <td>1.56498</td>\n",
       "      <td>1.516912</td>\n",
       "      <td>0.858131</td>\n",
       "      <td>0.620071</td>\n",
       "      <td>0.367007</td>\n",
       "      <td>0.290549</td>\n",
       "      <td>Western Europe</td>\n",
       "    </tr>\n",
       "    <tr>\n",
       "      <th>3</th>\n",
       "      <td>2018</td>\n",
       "      <td>Switzerland</td>\n",
       "      <td>5</td>\n",
       "      <td>7.487</td>\n",
       "      <td>1.42000</td>\n",
       "      <td>1.549000</td>\n",
       "      <td>0.927000</td>\n",
       "      <td>0.660000</td>\n",
       "      <td>0.357000</td>\n",
       "      <td>0.256000</td>\n",
       "      <td>Western Europe</td>\n",
       "    </tr>\n",
       "    <tr>\n",
       "      <th>4</th>\n",
       "      <td>2019</td>\n",
       "      <td>Switzerland</td>\n",
       "      <td>6</td>\n",
       "      <td>7.480</td>\n",
       "      <td>1.45200</td>\n",
       "      <td>1.526000</td>\n",
       "      <td>1.052000</td>\n",
       "      <td>0.572000</td>\n",
       "      <td>0.343000</td>\n",
       "      <td>0.263000</td>\n",
       "      <td>Western Europe</td>\n",
       "    </tr>\n",
       "  </tbody>\n",
       "</table>\n",
       "</div>"
      ],
      "text/plain": [
       "   Year      Country  Happiness Rank  Happiness Score  GDP per Capita  \\\n",
       "0  2015  Switzerland               1            7.587         1.39651   \n",
       "1  2016  Switzerland               2            7.509         1.52733   \n",
       "2  2017  Switzerland               4            7.494         1.56498   \n",
       "3  2018  Switzerland               5            7.487         1.42000   \n",
       "4  2019  Switzerland               6            7.480         1.45200   \n",
       "\n",
       "   Social support  Healthy Life Expectancy   Freedom  \\\n",
       "0        1.349510                 0.941430  0.665570   \n",
       "1        1.145240                 0.863030  0.585570   \n",
       "2        1.516912                 0.858131  0.620071   \n",
       "3        1.549000                 0.927000  0.660000   \n",
       "4        1.526000                 1.052000  0.572000   \n",
       "\n",
       "   Perception of Corruption  Generosity          Region  \n",
       "0                  0.419780    0.296780  Western Europe  \n",
       "1                  0.412030    0.280830  Western Europe  \n",
       "2                  0.367007    0.290549  Western Europe  \n",
       "3                  0.357000    0.256000  Western Europe  \n",
       "4                  0.343000    0.263000  Western Europe  "
      ]
     },
     "execution_count": 43,
     "metadata": {},
     "output_type": "execute_result"
    }
   ],
   "source": [
    "#adding another column 'Regional indicator' to DF by merging another DF with countryname and regional indicator columns.\n",
    "col_list = [\"Country name\", \"Regional indicator\"]\n",
    "df_20 = pd. read_csv(\"F:/Hajara/Data_Science/2020.csv\", usecols=col_list)\n",
    "df_20.columns = ['Country', 'Region']\n",
    "frame = frame.merge(df_20, how='inner', on='Country')\n",
    "frame.head()"
   ]
  },
  {
   "cell_type": "code",
   "execution_count": 44,
   "id": "8fe56a25",
   "metadata": {},
   "outputs": [
    {
     "data": {
      "text/html": [
       "<div>\n",
       "<style scoped>\n",
       "    .dataframe tbody tr th:only-of-type {\n",
       "        vertical-align: middle;\n",
       "    }\n",
       "\n",
       "    .dataframe tbody tr th {\n",
       "        vertical-align: top;\n",
       "    }\n",
       "\n",
       "    .dataframe thead th {\n",
       "        text-align: right;\n",
       "    }\n",
       "</style>\n",
       "<table border=\"1\" class=\"dataframe\">\n",
       "  <thead>\n",
       "    <tr style=\"text-align: right;\">\n",
       "      <th></th>\n",
       "      <th>Year</th>\n",
       "      <th>Country</th>\n",
       "      <th>Happiness Rank</th>\n",
       "      <th>Region</th>\n",
       "      <th>Happiness Score</th>\n",
       "      <th>GDP per Capita</th>\n",
       "      <th>Social support</th>\n",
       "      <th>Healthy Life Expectancy</th>\n",
       "      <th>Freedom</th>\n",
       "      <th>Perception of Corruption</th>\n",
       "      <th>Generosity</th>\n",
       "    </tr>\n",
       "  </thead>\n",
       "  <tbody>\n",
       "    <tr>\n",
       "      <th>0</th>\n",
       "      <td>2015</td>\n",
       "      <td>Switzerland</td>\n",
       "      <td>1</td>\n",
       "      <td>Western Europe</td>\n",
       "      <td>7.587</td>\n",
       "      <td>1.39651</td>\n",
       "      <td>1.349510</td>\n",
       "      <td>0.941430</td>\n",
       "      <td>0.665570</td>\n",
       "      <td>0.419780</td>\n",
       "      <td>0.296780</td>\n",
       "    </tr>\n",
       "    <tr>\n",
       "      <th>1</th>\n",
       "      <td>2016</td>\n",
       "      <td>Switzerland</td>\n",
       "      <td>2</td>\n",
       "      <td>Western Europe</td>\n",
       "      <td>7.509</td>\n",
       "      <td>1.52733</td>\n",
       "      <td>1.145240</td>\n",
       "      <td>0.863030</td>\n",
       "      <td>0.585570</td>\n",
       "      <td>0.412030</td>\n",
       "      <td>0.280830</td>\n",
       "    </tr>\n",
       "    <tr>\n",
       "      <th>2</th>\n",
       "      <td>2017</td>\n",
       "      <td>Switzerland</td>\n",
       "      <td>4</td>\n",
       "      <td>Western Europe</td>\n",
       "      <td>7.494</td>\n",
       "      <td>1.56498</td>\n",
       "      <td>1.516912</td>\n",
       "      <td>0.858131</td>\n",
       "      <td>0.620071</td>\n",
       "      <td>0.367007</td>\n",
       "      <td>0.290549</td>\n",
       "    </tr>\n",
       "    <tr>\n",
       "      <th>3</th>\n",
       "      <td>2018</td>\n",
       "      <td>Switzerland</td>\n",
       "      <td>5</td>\n",
       "      <td>Western Europe</td>\n",
       "      <td>7.487</td>\n",
       "      <td>1.42000</td>\n",
       "      <td>1.549000</td>\n",
       "      <td>0.927000</td>\n",
       "      <td>0.660000</td>\n",
       "      <td>0.357000</td>\n",
       "      <td>0.256000</td>\n",
       "    </tr>\n",
       "    <tr>\n",
       "      <th>4</th>\n",
       "      <td>2019</td>\n",
       "      <td>Switzerland</td>\n",
       "      <td>6</td>\n",
       "      <td>Western Europe</td>\n",
       "      <td>7.480</td>\n",
       "      <td>1.45200</td>\n",
       "      <td>1.526000</td>\n",
       "      <td>1.052000</td>\n",
       "      <td>0.572000</td>\n",
       "      <td>0.343000</td>\n",
       "      <td>0.263000</td>\n",
       "    </tr>\n",
       "  </tbody>\n",
       "</table>\n",
       "</div>"
      ],
      "text/plain": [
       "   Year      Country  Happiness Rank          Region  Happiness Score  \\\n",
       "0  2015  Switzerland               1  Western Europe            7.587   \n",
       "1  2016  Switzerland               2  Western Europe            7.509   \n",
       "2  2017  Switzerland               4  Western Europe            7.494   \n",
       "3  2018  Switzerland               5  Western Europe            7.487   \n",
       "4  2019  Switzerland               6  Western Europe            7.480   \n",
       "\n",
       "   GDP per Capita  Social support  Healthy Life Expectancy   Freedom  \\\n",
       "0         1.39651        1.349510                 0.941430  0.665570   \n",
       "1         1.52733        1.145240                 0.863030  0.585570   \n",
       "2         1.56498        1.516912                 0.858131  0.620071   \n",
       "3         1.42000        1.549000                 0.927000  0.660000   \n",
       "4         1.45200        1.526000                 1.052000  0.572000   \n",
       "\n",
       "   Perception of Corruption  Generosity  \n",
       "0                  0.419780    0.296780  \n",
       "1                  0.412030    0.280830  \n",
       "2                  0.367007    0.290549  \n",
       "3                  0.357000    0.256000  \n",
       "4                  0.343000    0.263000  "
      ]
     },
     "execution_count": 44,
     "metadata": {},
     "output_type": "execute_result"
    }
   ],
   "source": [
    "# Re-arranging column 'Regional indicator' in the position after 'Country name'\n",
    "column = frame.pop('Region')\n",
    "frame.insert(3, 'Region', column)\n",
    "frame.head()"
   ]
  },
  {
   "cell_type": "code",
   "execution_count": 21,
   "id": "b179eb51",
   "metadata": {},
   "outputs": [],
   "source": [
    "#creating a csv file for the final arranged dataframe 'frame'\n",
    "with open('F:/Hajara/Data_Science/happiness_report_15_20.csv', 'w', encoding='utf-8') as f:\n",
    "    frame.to_csv(f, index=False)"
   ]
  },
  {
   "cell_type": "code",
   "execution_count": 22,
   "id": "90226f7b",
   "metadata": {},
   "outputs": [],
   "source": [
    "#for a better Tableau Dashboard purpose, creating a excel file for the final arranged dataframe 'frame'\n",
    "frame.to_excel('F:/Hajara/Data_Science/happiness_report.xlsx', sheet_name='new_sheet_name')"
   ]
  },
  {
   "cell_type": "code",
   "execution_count": 45,
   "id": "d7002eaf",
   "metadata": {},
   "outputs": [
    {
     "name": "stdout",
     "output_type": "stream",
     "text": [
      "<class 'pandas.core.frame.DataFrame'>\n",
      "Int64Index: 884 entries, 0 to 883\n",
      "Data columns (total 11 columns):\n",
      " #   Column                    Non-Null Count  Dtype  \n",
      "---  ------                    --------------  -----  \n",
      " 0   Year                      884 non-null    object \n",
      " 1   Country                   884 non-null    object \n",
      " 2   Happiness Rank            884 non-null    int64  \n",
      " 3   Region                    884 non-null    object \n",
      " 4   Happiness Score           884 non-null    float64\n",
      " 5   GDP per Capita            884 non-null    float64\n",
      " 6   Social support            884 non-null    float64\n",
      " 7   Healthy Life Expectancy   884 non-null    float64\n",
      " 8   Freedom                   884 non-null    float64\n",
      " 9   Perception of Corruption  883 non-null    float64\n",
      " 10  Generosity                884 non-null    float64\n",
      "dtypes: float64(7), int64(1), object(3)\n",
      "memory usage: 82.9+ KB\n"
     ]
    }
   ],
   "source": [
    "#information of column names and datatypes\n",
    "frame.info()"
   ]
  },
  {
   "cell_type": "code",
   "execution_count": 46,
   "id": "b57dac12",
   "metadata": {},
   "outputs": [
    {
     "data": {
      "text/plain": [
       "True"
      ]
     },
     "execution_count": 46,
     "metadata": {},
     "output_type": "execute_result"
    }
   ],
   "source": [
    "#checking for null values\n",
    "frame.isnull().values.any()"
   ]
  },
  {
   "cell_type": "code",
   "execution_count": 47,
   "id": "d5cb58b1",
   "metadata": {},
   "outputs": [
    {
     "data": {
      "text/html": [
       "<div>\n",
       "<style scoped>\n",
       "    .dataframe tbody tr th:only-of-type {\n",
       "        vertical-align: middle;\n",
       "    }\n",
       "\n",
       "    .dataframe tbody tr th {\n",
       "        vertical-align: top;\n",
       "    }\n",
       "\n",
       "    .dataframe thead th {\n",
       "        text-align: right;\n",
       "    }\n",
       "</style>\n",
       "<table border=\"1\" class=\"dataframe\">\n",
       "  <thead>\n",
       "    <tr style=\"text-align: right;\">\n",
       "      <th></th>\n",
       "      <th>Year</th>\n",
       "      <th>Country</th>\n",
       "      <th>Happiness Rank</th>\n",
       "      <th>Region</th>\n",
       "      <th>Happiness Score</th>\n",
       "      <th>GDP per Capita</th>\n",
       "      <th>Social support</th>\n",
       "      <th>Healthy Life Expectancy</th>\n",
       "      <th>Freedom</th>\n",
       "      <th>Perception of Corruption</th>\n",
       "      <th>Generosity</th>\n",
       "    </tr>\n",
       "  </thead>\n",
       "  <tbody>\n",
       "    <tr>\n",
       "      <th>117</th>\n",
       "      <td>2018</td>\n",
       "      <td>United Arab Emirates</td>\n",
       "      <td>20</td>\n",
       "      <td>Middle East and North Africa</td>\n",
       "      <td>6.774</td>\n",
       "      <td>2.096</td>\n",
       "      <td>0.776</td>\n",
       "      <td>0.67</td>\n",
       "      <td>0.284</td>\n",
       "      <td>NaN</td>\n",
       "      <td>0.186</td>\n",
       "    </tr>\n",
       "  </tbody>\n",
       "</table>\n",
       "</div>"
      ],
      "text/plain": [
       "     Year               Country  Happiness Rank                        Region  \\\n",
       "117  2018  United Arab Emirates              20  Middle East and North Africa   \n",
       "\n",
       "     Happiness Score  GDP per Capita  Social support  Healthy Life Expectancy  \\\n",
       "117            6.774           2.096           0.776                     0.67   \n",
       "\n",
       "     Freedom  Perception of Corruption  Generosity  \n",
       "117    0.284                       NaN       0.186  "
      ]
     },
     "execution_count": 47,
     "metadata": {},
     "output_type": "execute_result"
    }
   ],
   "source": [
    "#showing the rows with null values\n",
    "frame[frame.isnull().values==True]"
   ]
  },
  {
   "cell_type": "code",
   "execution_count": 49,
   "id": "f47a66bc",
   "metadata": {},
   "outputs": [
    {
     "data": {
      "text/plain": [
       "Year                        0\n",
       "Country                     0\n",
       "Happiness Rank              0\n",
       "Region                      0\n",
       "Happiness Score             0\n",
       "GDP per Capita              0\n",
       "Social support              0\n",
       "Healthy Life Expectancy     0\n",
       "Freedom                     0\n",
       "Perception of Corruption    1\n",
       "Generosity                  0\n",
       "dtype: int64"
      ]
     },
     "execution_count": 49,
     "metadata": {},
     "output_type": "execute_result"
    }
   ],
   "source": [
    "#checking for null values columnwise\n",
    "frame.isnull().sum()"
   ]
  },
  {
   "cell_type": "code",
   "execution_count": 24,
   "id": "63e0bea6",
   "metadata": {},
   "outputs": [
    {
     "data": {
      "text/plain": [
       "<AxesSubplot:xlabel='Freedom', ylabel='Country'>"
      ]
     },
     "execution_count": 24,
     "metadata": {},
     "output_type": "execute_result"
    },
    {
     "data": {
      "image/png": "[encoded data removed]",
      "text/plain": [
       "<Figure size 864x576 with 4 Axes>"
      ]
     },
     "metadata": {
      "needs_background": "light"
     },
     "output_type": "display_data"
    }
   ],
   "source": [
    "#plotting for top 10 countries for each attribute\n",
    "fig, axes = plt.subplots(nrows=2, ncols=2,constrained_layout=True,figsize=(12,8))\n",
    "sns.barplot(x='GDP per Capita',y='Country',data=frame.nlargest(10,'GDP per Capita'),ax=axes[0,0],palette=\"Blues_d\")\n",
    "sns.barplot(x='Social support' ,y='Country',data=frame.nlargest(10,'Social support'),ax=axes[0,1],palette=\"YlGn\")\n",
    "sns.barplot(x='Healthy Life Expectancy' ,y='Country',data=frame.nlargest(10,'Healthy Life Expectancy'),ax=axes[1,0],palette='OrRd')\n",
    "sns.barplot(x='Freedom' ,y='Country',data=frame.nlargest(10,'Freedom'),ax=axes[1,1],palette='YlOrBr')"
   ]
  },
  {
   "cell_type": "code",
   "execution_count": 25,
   "id": "e660fa26",
   "metadata": {},
   "outputs": [
    {
     "data": {
      "text/plain": [
       "<AxesSubplot:xlabel='Perception of Corruption', ylabel='Country'>"
      ]
     },
     "execution_count": 25,
     "metadata": {},
     "output_type": "execute_result"
    },
    {
     "data": {
      "image/png": "[encoded data removed]",
      "text/plain": [
       "<Figure size 720x288 with 2 Axes>"
      ]
     },
     "metadata": {
      "needs_background": "light"
     },
     "output_type": "display_data"
    }
   ],
   "source": [
    "fig, axes = plt.subplots(nrows=1, ncols=2,constrained_layout=True,figsize=(10,4))\n",
    "\n",
    "sns.barplot(x='Generosity' ,y='Country',data=df.nlargest(10,'Generosity'),ax=axes[0],palette='Spectral')\n",
    "sns.barplot(x='Perception of Corruption' ,y='Country',data=df.nlargest(10,'Perception of Corruption'),ax=axes[1],palette='RdYlGn')"
   ]
  },
  {
   "cell_type": "code",
   "execution_count": 41,
   "id": "e0be3712",
   "metadata": {},
   "outputs": [],
   "source": [
    "df_2020 = frame[frame.Year==2020]\n",
    "d= df_2020.nlargest(3,['Happiness Rank'])"
   ]
  }
 ],
 "metadata": {
  "kernelspec": {
   "display_name": "Python 3",
   "language": "python",
   "name": "python3"
  },
  "language_info": {
   "codemirror_mode": {
    "name": "ipython",
    "version": 3
   },
   "file_extension": ".py",
   "mimetype": "text/x-python",
   "name": "python",
   "nbconvert_exporter": "python",
   "pygments_lexer": "ipython3",
   "version": "3.8.8"
  }
 },
 "nbformat": 4,
 "nbformat_minor": 5
}
